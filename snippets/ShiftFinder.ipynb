{
 "cells": [
  {
   "cell_type": "markdown",
   "metadata": {},
   "source": [
    "Example of how to find the best match between 2 sequences. The algo generates all rotations of the 2nd sequence and calculates the distance between the sequence 1 and the rotations. The best match is the rotation with the minimal distance."
   ]
  },
  {
   "cell_type": "code",
   "execution_count": 10,
   "metadata": {
    "collapsed": false
   },
   "outputs": [
    {
     "data": {
      "text/plain": [
       "[[0, 1, 2, 3, 4, 5, 0, 0, 0],\n",
       " [0, 0, 1, 2, 3, 4, 5, 0, 0],\n",
       " [0, 0, 0, 1, 2, 3, 4, 5, 0],\n",
       " [0, 0, 0, 0, 1, 2, 3, 4, 5],\n",
       " [5, 0, 0, 0, 0, 1, 2, 3, 4],\n",
       " [4, 5, 0, 0, 0, 0, 1, 2, 3],\n",
       " [3, 4, 5, 0, 0, 0, 0, 1, 2],\n",
       " [2, 3, 4, 5, 0, 0, 0, 0, 1]]"
      ]
     },
     "execution_count": 10,
     "metadata": {},
     "output_type": "execute_result"
    }
   ],
   "source": [
    "import collections\n",
    "import numpy as np;\n",
    "\n",
    "\n",
    "seq1= [ 0,0,0,1,2,3,4,5,0];\n",
    "seq2= [ 1,2,3,4,5,0,0,0,0];\n",
    "\n",
    "d = collections.deque(seq2)\n",
    "\n",
    "data = [];\n",
    "for i in range(1, len(seq1)):\n",
    "    d.rotate(1)\n",
    "    ll = list(d)\n",
    "    data.append(ll)\n",
    "data"
   ]
  },
  {
   "cell_type": "code",
   "execution_count": 20,
   "metadata": {
    "collapsed": false
   },
   "outputs": [
    {
     "data": {
      "text/plain": [
       "[7.6157731058639087,\n",
       " 5.4772255750516612,\n",
       " 0.0,\n",
       " 5.4772255750516612,\n",
       " 7.6157731058639087,\n",
       " 9.0553851381374173,\n",
       " 10.0,\n",
       " 10.0]"
      ]
     },
     "execution_count": 20,
     "metadata": {},
     "output_type": "execute_result"
    }
   ],
   "source": [
    "distances = []\n",
    "for i in range(0,len(data)):\n",
    "    s = np.array(seq1);\n",
    "    d = np.array(data[i] );\n",
    "    distances.append(np.sqrt(np.sum((s-d) * (s-d))))\n",
    "\n",
    "distances"
   ]
  }
 ],
 "metadata": {
  "kernelspec": {
   "display_name": "Python 2",
   "language": "python",
   "name": "python2"
  },
  "language_info": {
   "codemirror_mode": {
    "name": "ipython",
    "version": 2
   },
   "file_extension": ".py",
   "mimetype": "text/x-python",
   "name": "python",
   "nbconvert_exporter": "python",
   "pygments_lexer": "ipython2",
   "version": "2.7.11"
  }
 },
 "nbformat": 4,
 "nbformat_minor": 0
}
