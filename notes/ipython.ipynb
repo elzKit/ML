{
 "cells": [
  {
   "cell_type": "markdown",
   "metadata": {},
   "source": [
    "# Markdown\n",
    "\n",
    "Heading: '# your heading'\n",
    "\n",
    "Section: '## your section'\n",
    "\n",
    "Paragraph: blank line\n",
    "\n",
    "bulleted list: '* your list item'\n",
    "\n",
    "numbered list: 'number period space list item'\n",
    "\n",
    "Italics: ' star your-text star '\n",
    "\n",
    "Bolds: ' 2 stars your-text 2 stars '\n",
    "\n",
    "Links: use [] to put the link text and () to put the link itselft\n"
   ]
  },
  {
   "cell_type": "markdown",
   "metadata": {},
   "source": [
    "## section\n",
    "paragraph1\n",
    "\n",
    "paragraph2\n",
    "\n",
    "this is *italicized* and this is **bold**\n",
    "\n",
    "this is a bulleted list\n",
    "* list item 1\n",
    "* list item 2\n",
    "\n",
    "this is a numbered list\n",
    "1. sfnn\n",
    "2. sakldf\n",
    "\n",
    "[Full ducumentation](http://daringfireball.net/projects/markdown/syntax)"
   ]
  }
 ],
 "metadata": {
  "kernelspec": {
   "display_name": "Python 2",
   "language": "python",
   "name": "python2"
  },
  "language_info": {
   "codemirror_mode": {
    "name": "ipython",
    "version": 2
   },
   "file_extension": ".py",
   "mimetype": "text/x-python",
   "name": "python",
   "nbconvert_exporter": "python",
   "pygments_lexer": "ipython2",
   "version": "2.7.11"
  }
 },
 "nbformat": 4,
 "nbformat_minor": 0
}
