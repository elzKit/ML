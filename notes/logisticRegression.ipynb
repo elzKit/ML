{
 "cells": [
  {
   "cell_type": "markdown",
   "metadata": {},
   "source": [
    "# Logistic regression\n",
    "\n",
    "## Model\n",
    "We use linear regression as the baseline, but we map the results (from -infinity to +infinity) to the interval (0,1) and interpret the results as probability that the given data point belongs to a claLogistic regression has a linear score with a logistic link function.ss.\n",
    "\n",
    "We call the function which does the mapping a \"link function\".\n",
    "Logistic regression has a linear score with a logistic  (sigmoid) ( cumulative logistic distribution)link function.\n",
    "\n",
    "$$\n",
    "P(y_i = +1 | \\mathbf{x}_i,\\mathbf{w}) = \\frac{1}{1 + \\exp(-\\mathbf{w}^T h(\\mathbf{x}_i))}\n",
    "$$\n",
    "\n",
    "Logistic regression is a type of linear classifier, since the output is the weighted sum of inputs.\n",
    "For linear classifiers, the decision boundary is a line/plane/hyperplane.\n",
    "\n",
    "Logistic regression can be seen as a special case of generalized linear model and thus analogous to linear regression. \n",
    "\n",
    "\n",
    "## Learning\n",
    "\n",
    "We choose the coefficients to maximize the likelihood function. For the negative data points we want to maximize the probability that the output y is 0, and for the positive data points we want to maximize the probability that the output y is 1.\n",
    "The probabilities of the specific data points are combined with multiplication operation.\n",
    "$$\\ell(\\mathbf{w}) = \\prod_{i=1}^N P(y_i | \\mathbf{x}_i, \\mathbf{w})$$\n",
    "\n",
    "In order to simplify math, we use the log-likelihood:\n",
    "\n",
    "ln of the above\n",
    "\n",
    "$$\\ell\\ell(\\mathbf{w}) = \\sum_{i=1}^N \\Big( (\\mathbf{1}[y_i = +1] - 1)\\mathbf{w}^T h(\\mathbf{x}_i) - \\ln\\left(1 + \\exp(-\\mathbf{w}^T h(\\mathbf{x}_i))\\right) \\Big) $$\n",
    "\n",
    "In order to find the max, we use gradient ascent, which is based on calculating the derivative. (There is no close form solution).\n",
    "\n",
    "The log-likelihood derivative is:\n",
    "$$\n",
    "\\frac{\\partial\\ell}{\\partial w_j} = \\sum_{i=1}^N h_j(\\mathbf{x}_i)\\left(\\mathbf{1}[y_i = +1] - P(y_i = +1 | \\mathbf{x}_i, \\mathbf{w})\\right)\n",
    "$$\n",
    "\n",
    "Gradient ascent: the w(t+1) = w(t) + step_size * gradient of ll with respect to w\n",
    "\n",
    "\n",
    "###choosing the step size\n",
    "If too small - slow convergence\n",
    "if too big - divergence or oscillations\n",
    "\n",
    "To choose, try several values, exponentially spaced\n",
    "\n",
    "\n",
    "## Regularization\n",
    "As usual, regularization allows us to avoid overfitting. \n",
    "Overfitting symptoms for logistic regression are:\n",
    "* large coefficient values\n",
    "* overconfident estimations (very high(small) probability values, close to 1(0), basically no incertainty zone\n",
    "* test set accuracy worse than training set accuracy\n",
    "\n",
    "### L2 Regularization\n",
    "\n",
    "\n",
    "\n",
    "* The per-coefficient derivative of log likelihood:\n",
    "$$\n",
    "\\frac{\\partial\\ell}{\\partial w_j} = \\sum_{i=1}^N h_j(\\mathbf{x}_i)\\left(\\mathbf{1}[y_i = +1] - P(y_i = +1 | \\mathbf{x}_i, \\mathbf{w})\\right) \\color{red}{-2\\lambda w_j }\n",
    "$$\n",
    "\n",
    "We do not regularize the intercept term, so that for $w_0$ we have:\n",
    "$$\n",
    "\\frac{\\partial\\ell}{\\partial w_0} = \\sum_{i=1}^N h_0(\\mathbf{x}_i)\\left(\\mathbf{1}[y_i = +1] - P(y_i = +1 | \\mathbf{x}_i, \\mathbf{w})\\right)\n",
    "$$\n",
    "\n",
    "\n",
    "\n",
    "### L1 Regularization\n",
    "%TODO"
   ]
  },
  {
   "cell_type": "markdown",
   "metadata": {},
   "source": [
    "## Implementing logistic regression  without regularization from scratch"
   ]
  },
  {
   "cell_type": "code",
   "execution_count": 16,
   "metadata": {
    "collapsed": false
   },
   "outputs": [],
   "source": [
    "import math\n",
    "import numpy as np\n",
    "\n",
    "'''\n",
    "produces probablistic estimate for P(y_i = +1 | x_i, w).\n",
    "estimate ranges between 0 and 1.\n",
    "'''\n",
    "def calcProbability(feature_matrix, coefficients):\n",
    "    score =  np.dot(feature_matrix, coefficients)\n",
    "    p = []\n",
    "    for s in score:\n",
    "        prob = 1 / (1 + math.exp(-s))\n",
    "        p.append(prob)\n",
    "    return p\n",
    "\n",
    "'''\n",
    "Computes the derivative of the sigmoid function\n",
    "'''\n",
    "def calcDerivative(errors, feature):     \n",
    "    # Compute the dot product of errors and feature\n",
    "    derivative = np.dot(errors, feature)\n",
    "    \n",
    "    return derivative\n",
    "\n",
    "'''\n",
    "Computes the log likelihood\n",
    "'''\n",
    "def calcLogLikelihood(features, labels, coefficients):\n",
    "    indicator = (labels==+1)\n",
    "    scores = np.dot(features, coefficients)\n",
    "    logexp = np.log(1. + np.exp(-scores))\n",
    "    \n",
    "    # Simple check to prevent overflow\n",
    "    mask = np.isinf(logexp)\n",
    "    logexp[mask] = -scores[mask]\n",
    "    \n",
    "    lp = np.sum((indicator-1)*scores - logexp)\n",
    "    return lp\n",
    "\n",
    "'''\n",
    "features: a matrix of data points \n",
    "labels: an array containing true labels associated with data points\n",
    "'''\n",
    "def logisticRegression(features, labels, initial_coefficients, step_size, max_iter):\n",
    "    \n",
    "    coefficients = np.array(initial_coefficients) # make sure it's a numpy array\n",
    "    for itr in range(max_iter):\n",
    "\n",
    "        # Predict P(y_i = +1|x_i,w) using your predict_probability() function\n",
    "        predictions = calcProbability(features, coefficients)\n",
    "        \n",
    "        # Compute indicator value for (y_i = +1)\n",
    "        indicator = (labels==+1)\n",
    "        \n",
    "        # Compute the errors as indicator - predictions\n",
    "        errors = indicator - predictions\n",
    "        \n",
    "        for j in xrange(len(coefficients)): # loop over each coefficient\n",
    "            \n",
    "            # feature_matrix[:,j] is the feature column associated with coefficients[j].\n",
    "            # Compute the derivative for coefficients[j]. Save it in a variable called derivative\n",
    "            derivative = np.dot(features[:,j], errors)\n",
    "            \n",
    "            # go up the hill\n",
    "            coefficients[j] =  coefficients[j] + step_size * derivative\n",
    "            \n",
    "        \n",
    "        # Checking whether log likelihood is increasing\n",
    "        if itr <= 15 or (itr <= 100 and itr % 10 == 0) or (itr <= 1000 and itr % 100 == 0) \\\n",
    "        or (itr <= 10000 and itr % 1000 == 0) or itr % 10000 == 0:\n",
    "            lp = calcLogLikelihood(features, labels, coefficients)\n",
    "            print ('iteration %*d: log likelihood of observed labels = %.8f' % \\\n",
    "                (int(np.ceil(np.log10(max_iter))), itr, lp))\n",
    "    return coefficients"
   ]
  },
  {
   "cell_type": "markdown",
   "metadata": {},
   "source": [
    "## Running logistic regression on example data"
   ]
  },
  {
   "cell_type": "code",
   "execution_count": 19,
   "metadata": {
    "collapsed": false
   },
   "outputs": [
    {
     "ename": "ValueError",
     "evalue": "shapes (3,4) and (194,) not aligned: 4 (dim 1) != 194 (dim 0)",
     "output_type": "error",
     "traceback": [
      "\u001b[1;31m---------------------------------------------------------------------------\u001b[0m",
      "\u001b[1;31mValueError\u001b[0m                                Traceback (most recent call last)",
      "\u001b[1;32m<ipython-input-19-0041e2179eef>\u001b[0m in \u001b[0;36m<module>\u001b[1;34m()\u001b[0m\n\u001b[0;32m      6\u001b[0m \u001b[0mlabels\u001b[0m \u001b[1;33m=\u001b[0m \u001b[1;33m[\u001b[0m\u001b[1;36m1\u001b[0m\u001b[1;33m,\u001b[0m\u001b[1;36m2\u001b[0m\u001b[1;33m,\u001b[0m\u001b[1;36m3\u001b[0m\u001b[1;33m]\u001b[0m\u001b[1;33m\u001b[0m\u001b[0m\n\u001b[0;32m      7\u001b[0m coefficients = logisticRegression(features, labels, initial_coefficients=np.zeros(194),\n\u001b[1;32m----> 8\u001b[1;33m                                    step_size=1e-7, max_iter=301)\n\u001b[0m",
      "\u001b[1;32m<ipython-input-16-8ff7076a5892>\u001b[0m in \u001b[0;36mlogisticRegression\u001b[1;34m(features, labels, initial_coefficients, step_size, max_iter)\u001b[0m\n\u001b[0;32m     48\u001b[0m \u001b[1;33m\u001b[0m\u001b[0m\n\u001b[0;32m     49\u001b[0m         \u001b[1;31m# Predict P(y_i = +1|x_i,w) using your predict_probability() function\u001b[0m\u001b[1;33m\u001b[0m\u001b[1;33m\u001b[0m\u001b[0m\n\u001b[1;32m---> 50\u001b[1;33m         \u001b[0mpredictions\u001b[0m \u001b[1;33m=\u001b[0m \u001b[0mcalcProbability\u001b[0m\u001b[1;33m(\u001b[0m\u001b[0mfeatures\u001b[0m\u001b[1;33m,\u001b[0m \u001b[0mcoefficients\u001b[0m\u001b[1;33m)\u001b[0m\u001b[1;33m\u001b[0m\u001b[0m\n\u001b[0m\u001b[0;32m     51\u001b[0m \u001b[1;33m\u001b[0m\u001b[0m\n\u001b[0;32m     52\u001b[0m         \u001b[1;31m# Compute indicator value for (y_i = +1)\u001b[0m\u001b[1;33m\u001b[0m\u001b[1;33m\u001b[0m\u001b[0m\n",
      "\u001b[1;32m<ipython-input-16-8ff7076a5892>\u001b[0m in \u001b[0;36mcalcProbability\u001b[1;34m(feature_matrix, coefficients)\u001b[0m\n\u001b[0;32m      7\u001b[0m '''\n\u001b[0;32m      8\u001b[0m \u001b[1;32mdef\u001b[0m \u001b[0mcalcProbability\u001b[0m\u001b[1;33m(\u001b[0m\u001b[0mfeature_matrix\u001b[0m\u001b[1;33m,\u001b[0m \u001b[0mcoefficients\u001b[0m\u001b[1;33m)\u001b[0m\u001b[1;33m:\u001b[0m\u001b[1;33m\u001b[0m\u001b[0m\n\u001b[1;32m----> 9\u001b[1;33m     \u001b[0mscore\u001b[0m \u001b[1;33m=\u001b[0m  \u001b[0mnp\u001b[0m\u001b[1;33m.\u001b[0m\u001b[0mdot\u001b[0m\u001b[1;33m(\u001b[0m\u001b[0mfeature_matrix\u001b[0m\u001b[1;33m,\u001b[0m \u001b[0mcoefficients\u001b[0m\u001b[1;33m)\u001b[0m\u001b[1;33m\u001b[0m\u001b[0m\n\u001b[0m\u001b[0;32m     10\u001b[0m     \u001b[0mp\u001b[0m \u001b[1;33m=\u001b[0m \u001b[1;33m[\u001b[0m\u001b[1;33m]\u001b[0m\u001b[1;33m\u001b[0m\u001b[0m\n\u001b[0;32m     11\u001b[0m     \u001b[1;32mfor\u001b[0m \u001b[0ms\u001b[0m \u001b[1;32min\u001b[0m \u001b[0mscore\u001b[0m\u001b[1;33m:\u001b[0m\u001b[1;33m\u001b[0m\u001b[0m\n",
      "\u001b[1;31mValueError\u001b[0m: shapes (3,4) and (194,) not aligned: 4 (dim 1) != 194 (dim 0)"
     ]
    }
   ],
   "source": [
    "#coefficients = logistic_regression(feature_matrix, sentiment, initial_coefficients=np.zeros(194),\n",
    " #                                  step_size=1e-7, max_iter=301)\n",
    "\n",
    "# TODO use realistic data\n",
    "features = [[1, 2, 3, 4], [5,6,6,8],[1, 2, 3, 4]]\n",
    "labels = [1,2,3]\n",
    "coefficients = logisticRegression(features, labels, initial_coefficients=np.zeros(194),\n",
    "                                   step_size=1e-7, max_iter=301)\n"
   ]
  },
  {
   "cell_type": "markdown",
   "metadata": {},
   "source": [
    "## Implementing logistic regression with L2 regularization\n"
   ]
  },
  {
   "cell_type": "code",
   "execution_count": null,
   "metadata": {
    "collapsed": true
   },
   "outputs": [],
   "source": [
    "%TODO"
   ]
  }
 ],
 "metadata": {
  "kernelspec": {
   "display_name": "Python 3",
   "language": "python",
   "name": "python3"
  },
  "language_info": {
   "codemirror_mode": {
    "name": "ipython",
    "version": 3
   },
   "file_extension": ".py",
   "mimetype": "text/x-python",
   "name": "python",
   "nbconvert_exporter": "python",
   "pygments_lexer": "ipython3",
   "version": "3.5.1"
  }
 },
 "nbformat": 4,
 "nbformat_minor": 0
}
