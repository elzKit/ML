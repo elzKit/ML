{
 "cells": [
  {
   "cell_type": "markdown",
   "metadata": {},
   "source": [
    "# Numpy \n",
    "## meshgrid\n",
    "meshgrid function is well explained in \n",
    "https://www.youtube.com/watch?v=78T6w-gnj3M\n",
    "Basically, it allows to create 2 matrices from two vectors. The matrices represent all the points in the xy plane."
   ]
  },
  {
   "cell_type": "code",
   "execution_count": 36,
   "metadata": {
    "collapsed": false
   },
   "outputs": [],
   "source": [
    "import numpy as np\n",
    "import matplotlib.pyplot as plt\n",
    "%matplotlib inline\n",
    "\n",
    "x = np.arange(-5, 6, 1) # a vector of x coordinates: 11 x coordinates\n",
    "y = np.arange(-5, 6, 1) # a vector of y coordinates : 11 y coordinates\n",
    "# x and y define together 100 grid points\n",
    "xx, yy = np.meshgrid(x, y) # xx\n"
   ]
  },
  {
   "cell_type": "code",
   "execution_count": 37,
   "metadata": {
    "collapsed": false
   },
   "outputs": [
    {
     "data": {
      "text/plain": [
       "array([-5, -4, -3, -2, -1,  0,  1,  2,  3,  4,  5])"
      ]
     },
     "execution_count": 37,
     "metadata": {},
     "output_type": "execute_result"
    }
   ],
   "source": [
    "x"
   ]
  },
  {
   "cell_type": "code",
   "execution_count": 38,
   "metadata": {
    "collapsed": false
   },
   "outputs": [
    {
     "data": {
      "text/plain": [
       "array([-5, -4, -3, -2, -1,  0,  1,  2,  3,  4,  5])"
      ]
     },
     "execution_count": 38,
     "metadata": {},
     "output_type": "execute_result"
    }
   ],
   "source": [
    "y\n",
    "\n"
   ]
  },
  {
   "cell_type": "code",
   "execution_count": 39,
   "metadata": {
    "collapsed": false
   },
   "outputs": [
    {
     "data": {
      "text/plain": [
       "array([[-5, -4, -3, -2, -1,  0,  1,  2,  3,  4,  5],\n",
       "       [-5, -4, -3, -2, -1,  0,  1,  2,  3,  4,  5],\n",
       "       [-5, -4, -3, -2, -1,  0,  1,  2,  3,  4,  5],\n",
       "       [-5, -4, -3, -2, -1,  0,  1,  2,  3,  4,  5],\n",
       "       [-5, -4, -3, -2, -1,  0,  1,  2,  3,  4,  5],\n",
       "       [-5, -4, -3, -2, -1,  0,  1,  2,  3,  4,  5],\n",
       "       [-5, -4, -3, -2, -1,  0,  1,  2,  3,  4,  5],\n",
       "       [-5, -4, -3, -2, -1,  0,  1,  2,  3,  4,  5],\n",
       "       [-5, -4, -3, -2, -1,  0,  1,  2,  3,  4,  5],\n",
       "       [-5, -4, -3, -2, -1,  0,  1,  2,  3,  4,  5],\n",
       "       [-5, -4, -3, -2, -1,  0,  1,  2,  3,  4,  5]])"
      ]
     },
     "execution_count": 39,
     "metadata": {},
     "output_type": "execute_result"
    }
   ],
   "source": [
    "xx # contains repeated x vector - as rows"
   ]
  },
  {
   "cell_type": "code",
   "execution_count": 40,
   "metadata": {
    "collapsed": false
   },
   "outputs": [
    {
     "data": {
      "text/plain": [
       "array([[-5, -5, -5, -5, -5, -5, -5, -5, -5, -5, -5],\n",
       "       [-4, -4, -4, -4, -4, -4, -4, -4, -4, -4, -4],\n",
       "       [-3, -3, -3, -3, -3, -3, -3, -3, -3, -3, -3],\n",
       "       [-2, -2, -2, -2, -2, -2, -2, -2, -2, -2, -2],\n",
       "       [-1, -1, -1, -1, -1, -1, -1, -1, -1, -1, -1],\n",
       "       [ 0,  0,  0,  0,  0,  0,  0,  0,  0,  0,  0],\n",
       "       [ 1,  1,  1,  1,  1,  1,  1,  1,  1,  1,  1],\n",
       "       [ 2,  2,  2,  2,  2,  2,  2,  2,  2,  2,  2],\n",
       "       [ 3,  3,  3,  3,  3,  3,  3,  3,  3,  3,  3],\n",
       "       [ 4,  4,  4,  4,  4,  4,  4,  4,  4,  4,  4],\n",
       "       [ 5,  5,  5,  5,  5,  5,  5,  5,  5,  5,  5]])"
      ]
     },
     "execution_count": 40,
     "metadata": {},
     "output_type": "execute_result"
    }
   ],
   "source": [
    "yy # contains repeated y vector - a columns"
   ]
  },
  {
   "cell_type": "code",
   "execution_count": 41,
   "metadata": {
    "collapsed": false
   },
   "outputs": [
    {
     "data": {
      "text/plain": [
       "array([[50, 41, 34, 29, 26, 25, 26, 29, 34, 41, 50],\n",
       "       [41, 32, 25, 20, 17, 16, 17, 20, 25, 32, 41],\n",
       "       [34, 25, 18, 13, 10,  9, 10, 13, 18, 25, 34],\n",
       "       [29, 20, 13,  8,  5,  4,  5,  8, 13, 20, 29],\n",
       "       [26, 17, 10,  5,  2,  1,  2,  5, 10, 17, 26],\n",
       "       [25, 16,  9,  4,  1,  0,  1,  4,  9, 16, 25],\n",
       "       [26, 17, 10,  5,  2,  1,  2,  5, 10, 17, 26],\n",
       "       [29, 20, 13,  8,  5,  4,  5,  8, 13, 20, 29],\n",
       "       [34, 25, 18, 13, 10,  9, 10, 13, 18, 25, 34],\n",
       "       [41, 32, 25, 20, 17, 16, 17, 20, 25, 32, 41],\n",
       "       [50, 41, 34, 29, 26, 25, 26, 29, 34, 41, 50]])"
      ]
     },
     "execution_count": 41,
     "metadata": {},
     "output_type": "execute_result"
    }
   ],
   "source": [
    "z = xx**2 + yy**2 \n",
    "z"
   ]
  },
  {
   "cell_type": "code",
   "execution_count": 42,
   "metadata": {
    "collapsed": false
   },
   "outputs": [
    {
     "data": {
      "image/png": "[encoded data removed]",
      "text/plain": [
       "<matplotlib.figure.Figure at 0xbb73048>"
      ]
     },
     "metadata": {},
     "output_type": "display_data"
    }
   ],
   "source": [
    "h = plt.contourf(x,y,z)"
   ]
  }
 ],
 "metadata": {
  "kernelspec": {
   "display_name": "Python 2",
   "language": "python",
   "name": "python2"
  },
  "language_info": {
   "codemirror_mode": {
    "name": "ipython",
    "version": 2
   },
   "file_extension": ".py",
   "mimetype": "text/x-python",
   "name": "python",
   "nbconvert_exporter": "python",
   "pygments_lexer": "ipython2",
   "version": "2.7.11"
  }
 },
 "nbformat": 4,
 "nbformat_minor": 0
}
