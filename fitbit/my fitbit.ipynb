{
 "cells": [
  {
   "cell_type": "markdown",
   "metadata": {},
   "source": [
    "# Exploratory data analysis on fitbit activity data"
   ]
  },
  {
   "cell_type": "code",
   "execution_count": 4,
   "metadata": {
    "collapsed": false
   },
   "outputs": [],
   "source": [
    "import pandas as pd;\n",
    "import matplotlib.pyplot as plt;\n",
    "%matplotlib inline\n"
   ]
  },
  {
   "cell_type": "code",
   "execution_count": 5,
   "metadata": {
    "collapsed": false
   },
   "outputs": [],
   "source": [
    "data = pd.read_csv('fitbit_export_activity_jan_mar.csv');"
   ]
  },
  {
   "cell_type": "markdown",
   "metadata": {
    "collapsed": true
   },
   "source": [
    "The data analysed is provided by the fitbit activity tracker for one particular person over the period of 3 months. Let's see if we can show any trends and dependencies in there.'"
   ]
  },
  {
   "cell_type": "code",
   "execution_count": 10,
   "metadata": {
    "collapsed": false
   },
   "outputs": [
    {
     "data": {
      "text/html": [
       "<div>\n",
       "<table border=\"1\" class=\"dataframe\">\n",
       "  <thead>\n",
       "    <tr style=\"text-align: right;\">\n",
       "      <th></th>\n",
       "      <th>Date</th>\n",
       "      <th>CalBurned</th>\n",
       "      <th>Steps</th>\n",
       "      <th>Distance</th>\n",
       "      <th>Floors</th>\n",
       "      <th>MinNoActivity</th>\n",
       "      <th>MinLowActivity</th>\n",
       "      <th>MinMidActivity</th>\n",
       "      <th>MinHighActivity</th>\n",
       "      <th>Cal</th>\n",
       "    </tr>\n",
       "  </thead>\n",
       "  <tbody>\n",
       "    <tr>\n",
       "      <th>0</th>\n",
       "      <td>01-01-2016</td>\n",
       "      <td>1491</td>\n",
       "      <td>0</td>\n",
       "      <td>0</td>\n",
       "      <td>0</td>\n",
       "      <td>1440</td>\n",
       "      <td>0</td>\n",
       "      <td>0</td>\n",
       "      <td>0</td>\n",
       "      <td>0</td>\n",
       "    </tr>\n",
       "    <tr>\n",
       "      <th>1</th>\n",
       "      <td>02-01-2016</td>\n",
       "      <td>1491</td>\n",
       "      <td>0</td>\n",
       "      <td>0</td>\n",
       "      <td>0</td>\n",
       "      <td>1440</td>\n",
       "      <td>0</td>\n",
       "      <td>0</td>\n",
       "      <td>0</td>\n",
       "      <td>0</td>\n",
       "    </tr>\n",
       "    <tr>\n",
       "      <th>2</th>\n",
       "      <td>03-01-2016</td>\n",
       "      <td>1491</td>\n",
       "      <td>0</td>\n",
       "      <td>0</td>\n",
       "      <td>0</td>\n",
       "      <td>1440</td>\n",
       "      <td>0</td>\n",
       "      <td>0</td>\n",
       "      <td>0</td>\n",
       "      <td>0</td>\n",
       "    </tr>\n",
       "    <tr>\n",
       "      <th>3</th>\n",
       "      <td>04-01-2016</td>\n",
       "      <td>1491</td>\n",
       "      <td>0</td>\n",
       "      <td>0</td>\n",
       "      <td>0</td>\n",
       "      <td>1440</td>\n",
       "      <td>0</td>\n",
       "      <td>0</td>\n",
       "      <td>0</td>\n",
       "      <td>0</td>\n",
       "    </tr>\n",
       "    <tr>\n",
       "      <th>4</th>\n",
       "      <td>05-01-2016</td>\n",
       "      <td>1491</td>\n",
       "      <td>0</td>\n",
       "      <td>0</td>\n",
       "      <td>0</td>\n",
       "      <td>1440</td>\n",
       "      <td>0</td>\n",
       "      <td>0</td>\n",
       "      <td>0</td>\n",
       "      <td>0</td>\n",
       "    </tr>\n",
       "    <tr>\n",
       "      <th>5</th>\n",
       "      <td>06-01-2016</td>\n",
       "      <td>1491</td>\n",
       "      <td>0</td>\n",
       "      <td>0</td>\n",
       "      <td>0</td>\n",
       "      <td>1440</td>\n",
       "      <td>0</td>\n",
       "      <td>0</td>\n",
       "      <td>0</td>\n",
       "      <td>0</td>\n",
       "    </tr>\n",
       "    <tr>\n",
       "      <th>6</th>\n",
       "      <td>07-01-2016</td>\n",
       "      <td>1491</td>\n",
       "      <td>0</td>\n",
       "      <td>0</td>\n",
       "      <td>0</td>\n",
       "      <td>1440</td>\n",
       "      <td>0</td>\n",
       "      <td>0</td>\n",
       "      <td>0</td>\n",
       "      <td>0</td>\n",
       "    </tr>\n",
       "    <tr>\n",
       "      <th>7</th>\n",
       "      <td>08-01-2016</td>\n",
       "      <td>1491</td>\n",
       "      <td>0</td>\n",
       "      <td>0</td>\n",
       "      <td>0</td>\n",
       "      <td>1440</td>\n",
       "      <td>0</td>\n",
       "      <td>0</td>\n",
       "      <td>0</td>\n",
       "      <td>0</td>\n",
       "    </tr>\n",
       "    <tr>\n",
       "      <th>8</th>\n",
       "      <td>09-01-2016</td>\n",
       "      <td>1491</td>\n",
       "      <td>0</td>\n",
       "      <td>0</td>\n",
       "      <td>0</td>\n",
       "      <td>1440</td>\n",
       "      <td>0</td>\n",
       "      <td>0</td>\n",
       "      <td>0</td>\n",
       "      <td>0</td>\n",
       "    </tr>\n",
       "    <tr>\n",
       "      <th>9</th>\n",
       "      <td>10-01-2016</td>\n",
       "      <td>1993</td>\n",
       "      <td>11290</td>\n",
       "      <td>7,64</td>\n",
       "      <td>0</td>\n",
       "      <td>1180</td>\n",
       "      <td>115</td>\n",
       "      <td>10</td>\n",
       "      <td>51</td>\n",
       "      <td>660</td>\n",
       "    </tr>\n",
       "    <tr>\n",
       "      <th>10</th>\n",
       "      <td>11-01-2016</td>\n",
       "      <td>2460</td>\n",
       "      <td>11419</td>\n",
       "      <td>7,78</td>\n",
       "      <td>0</td>\n",
       "      <td>649</td>\n",
       "      <td>284</td>\n",
       "      <td>16</td>\n",
       "      <td>32</td>\n",
       "      <td>1232</td>\n",
       "    </tr>\n",
       "    <tr>\n",
       "      <th>11</th>\n",
       "      <td>12-01-2016</td>\n",
       "      <td>2823</td>\n",
       "      <td>17148</td>\n",
       "      <td>11,63</td>\n",
       "      <td>0</td>\n",
       "      <td>547</td>\n",
       "      <td>355</td>\n",
       "      <td>17</td>\n",
       "      <td>65</td>\n",
       "      <td>1716</td>\n",
       "    </tr>\n",
       "    <tr>\n",
       "      <th>12</th>\n",
       "      <td>13-01-2016</td>\n",
       "      <td>2352</td>\n",
       "      <td>10652</td>\n",
       "      <td>7,24</td>\n",
       "      <td>0</td>\n",
       "      <td>734</td>\n",
       "      <td>207</td>\n",
       "      <td>20</td>\n",
       "      <td>48</td>\n",
       "      <td>1069</td>\n",
       "    </tr>\n",
       "    <tr>\n",
       "      <th>13</th>\n",
       "      <td>14-01-2016</td>\n",
       "      <td>2264</td>\n",
       "      <td>10276</td>\n",
       "      <td>7,03</td>\n",
       "      <td>0</td>\n",
       "      <td>1206</td>\n",
       "      <td>187</td>\n",
       "      <td>8</td>\n",
       "      <td>39</td>\n",
       "      <td>959</td>\n",
       "    </tr>\n",
       "    <tr>\n",
       "      <th>14</th>\n",
       "      <td>15-01-2016</td>\n",
       "      <td>1754</td>\n",
       "      <td>3034</td>\n",
       "      <td>2,05</td>\n",
       "      <td>0</td>\n",
       "      <td>1259</td>\n",
       "      <td>120</td>\n",
       "      <td>0</td>\n",
       "      <td>0</td>\n",
       "      <td>381</td>\n",
       "    </tr>\n",
       "  </tbody>\n",
       "</table>\n",
       "</div>"
      ],
      "text/plain": [
       "          Date  CalBurned  Steps Distance  Floors  MinNoActivity  \\\n",
       "0   01-01-2016       1491      0        0       0           1440   \n",
       "1   02-01-2016       1491      0        0       0           1440   \n",
       "2   03-01-2016       1491      0        0       0           1440   \n",
       "3   04-01-2016       1491      0        0       0           1440   \n",
       "4   05-01-2016       1491      0        0       0           1440   \n",
       "5   06-01-2016       1491      0        0       0           1440   \n",
       "6   07-01-2016       1491      0        0       0           1440   \n",
       "7   08-01-2016       1491      0        0       0           1440   \n",
       "8   09-01-2016       1491      0        0       0           1440   \n",
       "9   10-01-2016       1993  11290     7,64       0           1180   \n",
       "10  11-01-2016       2460  11419     7,78       0            649   \n",
       "11  12-01-2016       2823  17148    11,63       0            547   \n",
       "12  13-01-2016       2352  10652     7,24       0            734   \n",
       "13  14-01-2016       2264  10276     7,03       0           1206   \n",
       "14  15-01-2016       1754   3034     2,05       0           1259   \n",
       "\n",
       "    MinLowActivity  MinMidActivity  MinHighActivity   Cal  \n",
       "0                0               0                0     0  \n",
       "1                0               0                0     0  \n",
       "2                0               0                0     0  \n",
       "3                0               0                0     0  \n",
       "4                0               0                0     0  \n",
       "5                0               0                0     0  \n",
       "6                0               0                0     0  \n",
       "7                0               0                0     0  \n",
       "8                0               0                0     0  \n",
       "9              115              10               51   660  \n",
       "10             284              16               32  1232  \n",
       "11             355              17               65  1716  \n",
       "12             207              20               48  1069  \n",
       "13             187               8               39   959  \n",
       "14             120               0                0   381  "
      ]
     },
     "execution_count": 10,
     "metadata": {},
     "output_type": "execute_result"
    }
   ],
   "source": [
    "data.head(15)"
   ]
  },
  {
   "cell_type": "markdown",
   "metadata": {},
   "source": [
    "Let's take a look at some basic statistics."
   ]
  },
  {
   "cell_type": "code",
   "execution_count": 7,
   "metadata": {
    "collapsed": false
   },
   "outputs": [
    {
     "data": {
      "text/html": [
       "<div>\n",
       "<table border=\"1\" class=\"dataframe\">\n",
       "  <thead>\n",
       "    <tr style=\"text-align: right;\">\n",
       "      <th></th>\n",
       "      <th>CalBurned</th>\n",
       "      <th>Steps</th>\n",
       "      <th>Floors</th>\n",
       "      <th>MinNoActivity</th>\n",
       "      <th>MinLowActivity</th>\n",
       "      <th>MinMidActivity</th>\n",
       "      <th>MinHighActivity</th>\n",
       "      <th>Cal</th>\n",
       "    </tr>\n",
       "  </thead>\n",
       "  <tbody>\n",
       "    <tr>\n",
       "      <th>count</th>\n",
       "      <td>91.000000</td>\n",
       "      <td>91.000000</td>\n",
       "      <td>91</td>\n",
       "      <td>91.000000</td>\n",
       "      <td>91.000000</td>\n",
       "      <td>91.000000</td>\n",
       "      <td>91.000000</td>\n",
       "      <td>91.000000</td>\n",
       "    </tr>\n",
       "    <tr>\n",
       "      <th>mean</th>\n",
       "      <td>2254.505495</td>\n",
       "      <td>10170.549451</td>\n",
       "      <td>0</td>\n",
       "      <td>809.791209</td>\n",
       "      <td>206.912088</td>\n",
       "      <td>18.351648</td>\n",
       "      <td>36.582418</td>\n",
       "      <td>998.571429</td>\n",
       "    </tr>\n",
       "    <tr>\n",
       "      <th>std</th>\n",
       "      <td>470.214097</td>\n",
       "      <td>6838.523493</td>\n",
       "      <td>0</td>\n",
       "      <td>342.394948</td>\n",
       "      <td>113.502486</td>\n",
       "      <td>17.776622</td>\n",
       "      <td>35.737956</td>\n",
       "      <td>606.287540</td>\n",
       "    </tr>\n",
       "    <tr>\n",
       "      <th>min</th>\n",
       "      <td>1463.000000</td>\n",
       "      <td>0.000000</td>\n",
       "      <td>0</td>\n",
       "      <td>295.000000</td>\n",
       "      <td>0.000000</td>\n",
       "      <td>0.000000</td>\n",
       "      <td>0.000000</td>\n",
       "      <td>0.000000</td>\n",
       "    </tr>\n",
       "    <tr>\n",
       "      <th>25%</th>\n",
       "      <td>2096.500000</td>\n",
       "      <td>7236.500000</td>\n",
       "      <td>0</td>\n",
       "      <td>566.000000</td>\n",
       "      <td>184.500000</td>\n",
       "      <td>6.000000</td>\n",
       "      <td>16.000000</td>\n",
       "      <td>783.500000</td>\n",
       "    </tr>\n",
       "    <tr>\n",
       "      <th>50%</th>\n",
       "      <td>2298.000000</td>\n",
       "      <td>10270.000000</td>\n",
       "      <td>0</td>\n",
       "      <td>691.000000</td>\n",
       "      <td>237.000000</td>\n",
       "      <td>14.000000</td>\n",
       "      <td>28.000000</td>\n",
       "      <td>1060.000000</td>\n",
       "    </tr>\n",
       "    <tr>\n",
       "      <th>75%</th>\n",
       "      <td>2498.500000</td>\n",
       "      <td>13682.000000</td>\n",
       "      <td>0</td>\n",
       "      <td>1001.000000</td>\n",
       "      <td>274.000000</td>\n",
       "      <td>25.000000</td>\n",
       "      <td>49.500000</td>\n",
       "      <td>1319.500000</td>\n",
       "    </tr>\n",
       "    <tr>\n",
       "      <th>max</th>\n",
       "      <td>3438.000000</td>\n",
       "      <td>31093.000000</td>\n",
       "      <td>0</td>\n",
       "      <td>1440.000000</td>\n",
       "      <td>420.000000</td>\n",
       "      <td>75.000000</td>\n",
       "      <td>203.000000</td>\n",
       "      <td>2459.000000</td>\n",
       "    </tr>\n",
       "  </tbody>\n",
       "</table>\n",
       "</div>"
      ],
      "text/plain": [
       "         CalBurned         Steps  Floors  MinNoActivity  MinLowActivity  \\\n",
       "count    91.000000     91.000000      91      91.000000       91.000000   \n",
       "mean   2254.505495  10170.549451       0     809.791209      206.912088   \n",
       "std     470.214097   6838.523493       0     342.394948      113.502486   \n",
       "min    1463.000000      0.000000       0     295.000000        0.000000   \n",
       "25%    2096.500000   7236.500000       0     566.000000      184.500000   \n",
       "50%    2298.000000  10270.000000       0     691.000000      237.000000   \n",
       "75%    2498.500000  13682.000000       0    1001.000000      274.000000   \n",
       "max    3438.000000  31093.000000       0    1440.000000      420.000000   \n",
       "\n",
       "       MinMidActivity  MinHighActivity          Cal  \n",
       "count       91.000000        91.000000    91.000000  \n",
       "mean        18.351648        36.582418   998.571429  \n",
       "std         17.776622        35.737956   606.287540  \n",
       "min          0.000000         0.000000     0.000000  \n",
       "25%          6.000000        16.000000   783.500000  \n",
       "50%         14.000000        28.000000  1060.000000  \n",
       "75%         25.000000        49.500000  1319.500000  \n",
       "max         75.000000       203.000000  2459.000000  "
      ]
     },
     "execution_count": 7,
     "metadata": {},
     "output_type": "execute_result"
    }
   ],
   "source": [
    "data.describe()"
   ]
  },
  {
   "cell_type": "markdown",
   "metadata": {},
   "source": [
    "# Cleaning of the data\n",
    "The data contains several records where absolutely no activity was tracked. Most certainly the person was not using their device on that day. These records contain no useful information at all, we'll discard them."
   ]
  },
  {
   "cell_type": "code",
   "execution_count": null,
   "metadata": {
    "collapsed": false
   },
   "outputs": [],
   "source": [
    "data = data[data['MinNoActivity']!= 1440]\n"
   ]
  },
  {
   "cell_type": "markdown",
   "metadata": {},
   "source": [
    "One day consists of 24 * 60 = 11440 minutes. We can see however that the minutues within one day in our data do not add up to this value. To better account for fact, we introduce a new column, for 'MinUnknown' containing the missing minutes."
   ]
  },
  {
   "cell_type": "code",
   "execution_count": null,
   "metadata": {
    "collapsed": false
   },
   "outputs": [],
   "source": [
    "dfKnown = data['MinNoActivity']+data['MinLowActivity']+data['MinMidActivity']+data['MinHighActivity']\n"
   ]
  },
  {
   "cell_type": "code",
   "execution_count": null,
   "metadata": {
    "collapsed": false
   },
   "outputs": [],
   "source": [
    "data['MinUnknown'] = 1440 - dfKnown"
   ]
  },
  {
   "cell_type": "code",
   "execution_count": null,
   "metadata": {
    "collapsed": false
   },
   "outputs": [],
   "source": [
    "data"
   ]
  },
  {
   "cell_type": "markdown",
   "metadata": {},
   "source": [
    "Let's just check if we did a good job in filling up missing data'"
   ]
  },
  {
   "cell_type": "code",
   "execution_count": null,
   "metadata": {
    "collapsed": false
   },
   "outputs": [],
   "source": [
    "plt.plot(data.index.values, data['MinNoActivity']+data['MinLowActivity']+data['MinMidActivity']+data['MinHighActivity'] + data['MinUnknown'])"
   ]
  },
  {
   "cell_type": "markdown",
   "metadata": {},
   "source": [
    "OK, looks like every day has 1440 minutes, that's what we wanted."
   ]
  },
  {
   "cell_type": "markdown",
   "metadata": {},
   "source": [
    "# Visualizing the data\n",
    "Let's see some graphical representations of the data"
   ]
  },
  {
   "cell_type": "code",
   "execution_count": null,
   "metadata": {
    "collapsed": false
   },
   "outputs": [],
   "source": [
    "fig, ax = plt.subplots()\n",
    "ax.stackplot(data.index.values, data['MinNoActivity'],data['MinUnknown'],data['MinLowActivity'], data['MinMidActivity'],data['MinHighActivity'] )\n",
    "plt.show()"
   ]
  },
  {
   "cell_type": "markdown",
   "metadata": {},
   "source": [
    "It looks like we have still a few records where the \"no activity\" is filling almost all the day. Probably, the fitbit device did not function correctly on that day. However, we leave this noisy data for now."
   ]
  },
  {
   "cell_type": "markdown",
   "metadata": {},
   "source": [
    "Let's investigate how active thi person is on everage"
   ]
  },
  {
   "cell_type": "code",
   "execution_count": null,
   "metadata": {
    "collapsed": false
   },
   "outputs": [],
   "source": [
    "print( \"Average activity per day in hours None=\", round(data['MinNoActivity'].mean()/60,1), \"Low=\",round(data['MinLowActivity'].mean()/60,1), \"Mid=\",round(data['MinMidActivity'].mean()/60,1), \"High=\",round(data['MinHighActivity'].mean()/60,1))"
   ]
  },
  {
   "cell_type": "code",
   "execution_count": null,
   "metadata": {
    "collapsed": false
   },
   "outputs": [],
   "source": [
    "data['Steps'].mean()"
   ]
  },
  {
   "cell_type": "markdown",
   "metadata": {},
   "source": [
    "In conclusion, the person does not spend much time in an active way. However, it reaches the doctors recomendation of 10 thousand steps per day."
   ]
  },
  {
   "cell_type": "markdown",
   "metadata": {},
   "source": [
    "# Adding new features\n",
    "Since we can suspect that the data depends on the day of the week, we'll add this feature"
   ]
  },
  {
   "cell_type": "code",
   "execution_count": null,
   "metadata": {
    "collapsed": false
   },
   "outputs": [],
   "source": [
    "#This is how to convert the date to day of week\n",
    "import datetime\n",
    "datetime.datetime.strptime('01-01-16', '%d-%m-%y').strftime('%a')\n"
   ]
  },
  {
   "cell_type": "code",
   "execution_count": null,
   "metadata": {
    "collapsed": false
   },
   "outputs": [],
   "source": [
    "#TODO: add the day of the week feature and provide some stats on that"
   ]
  },
  {
   "cell_type": "code",
   "execution_count": null,
   "metadata": {
    "collapsed": false
   },
   "outputs": [],
   "source": [
    "#data['Date'].apply(lambda x: datetime.datetime.strptime(x, '%d-%m-%y').strftime('%a'))"
   ]
  }
 ],
 "metadata": {
  "kernelspec": {
   "display_name": "Python 3",
   "language": "python",
   "name": "python3"
  },
  "language_info": {
   "codemirror_mode": {
    "name": "ipython",
    "version": 3
   },
   "file_extension": ".py",
   "mimetype": "text/x-python",
   "name": "python",
   "nbconvert_exporter": "python",
   "pygments_lexer": "ipython3",
   "version": "3.5.1"
  }
 },
 "nbformat": 4,
 "nbformat_minor": 0
}
